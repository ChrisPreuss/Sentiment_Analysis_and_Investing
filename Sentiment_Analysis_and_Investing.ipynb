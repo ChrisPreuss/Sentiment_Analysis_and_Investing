{
 "cells": [
  {
   "cell_type": "code",
   "execution_count": null,
   "metadata": {
    "collapsed": false
   },
   "outputs": [],
   "source": [
    "import pandas as pd\n",
    "import datetime\n",
    "import pandas.io.data\n",
    "from pandas import DataFrame\n",
    "import matplotlib.pyplot as plt\n",
    "from matplotlib import style\n",
    "import numpy as np\n",
    "import math\n",
    "import time"
   ]
  },
  {
   "cell_type": "code",
   "execution_count": null,
   "metadata": {
    "collapsed": false
   },
   "outputs": [],
   "source": [
    "style.use('ggplot')\n",
    "\n",
    "class Sentiment_Analysis:\n",
    "    \n",
    "    '''sp500 = pd.io.data.get_data_yahoo('%5EGSPC',\n",
    "                                 start= datetime.datetime(2000, 10, 1),\n",
    "                                 end= datetime.datetime(2012, 1, 1))\n",
    "\n",
    "    print sp500.head()'''"
   ]
  },
  {
   "cell_type": "code",
   "execution_count": null,
   "metadata": {
    "collapsed": true
   },
   "outputs": [],
   "source": [
    "#Saves the requested data as a cvs file in the directory where the code is ran\n",
    "sp500.to_csv('sp500_ohlc.csv')"
   ]
  },
  {
   "cell_type": "code",
   "execution_count": null,
   "metadata": {
    "collapsed": false
   },
   "outputs": [],
   "source": [
    "#Working with excel files, access specific colums\n",
    "'''df = pd.read_csv('sp500_ohlc.csv',index_col='Date', parse_dates=True)  \n",
    "#Object in ts needs to be a list or 1 object\n",
    "ts = df[['Close','Open']][-10:]\n",
    "\n",
    "df['H - L'] = df.High - df.Low \n",
    "close = df['Adj Close']\n",
    "ma = pd.rolling_mean(close, 50)\n",
    "\n",
    "ax1 = plt.subplot(2, 1, 1)\n",
    "ax1.plot(close, label='sp500')\n",
    "ax1.plot(ma, label='50MA')\n",
    "plt.legend()\n",
    "\n",
    "ax2 = plt.subplot(2, 1, 2, sharex = ax1)\n",
    "ax2.plot(df['H - L'], label = 'H - L')\n",
    "plt.legend()\n",
    "plt.show()\n",
    "\n",
    "#print ma[-10:] #print moving average for last 10 values of the Adj Close column\n",
    "# Delete colums\n",
    "#del df['H - L']\n",
    "#print df.head()\n",
    "#print ts'''"
   ]
  },
  {
   "cell_type": "code",
   "execution_count": null,
   "metadata": {
    "collapsed": false
   },
   "outputs": [],
   "source": [
    "'''def modifyDataSet():\n",
    "    df = pd.read_csv('C:/Python27/Scripts/pra/stocks_sentdex_1-6-2016.csv') #Insert location of your file\n",
    "    df['time'] = pd.to_datetime(df['time'], unit='s')\n",
    "    df = df.set_index('time')\n",
    "    \n",
    "    print df.head()\n",
    "    \n",
    "    del df['id']\n",
    "    \n",
    "    df.to_csv('C:/Python27/Scripts/pra/stocks_sentdex_1-6-2016_test1.csv') #Again, insert location where you want to save the new file\n",
    "\n",
    "print modifyDataSet()'''"
   ]
  },
  {
   "cell_type": "code",
   "execution_count": null,
   "metadata": {
    "collapsed": false
   },
   "outputs": [],
   "source": [
    "'''def single_stock(stock_name):\n",
    "    df = pd.read_csv('C:/Python27/Scripts/pra/stocks_sentdex_1-6-2016.csv', index_col='time', parse_dates=True)#Insert location of your file\n",
    "    \n",
    "    df = df[df.type==stock_name.lower()]\n",
    "    _500MA = pd.rolling_mean(df['value'],500)\n",
    "    ax1 = plt.subplot(2, 1, 1)\n",
    "    \n",
    "    df['close'].plot(label='Price')\n",
    "    plt.legend()\n",
    "   \n",
    "    ax2 = plt.subplot(2, 1, 2, sharex = ax1)\n",
    "    _500MA.plot(label='500MA')\n",
    "    plt.legend()\n",
    "   \n",
    "    plt.show()\n",
    "    \n",
    "\n",
    "print single_stock('bac')'''"
   ]
  },
  {
   "cell_type": "code",
   "execution_count": null,
   "metadata": {
    "collapsed": false
   },
   "outputs": [],
   "source": [
    "def outlier_fixing(stock_name):\n",
    "    df = pd.read_csv('C:/Python27/Scripts/pra/stocks_sentdex_1-6-2016.csv', index_col='time', parse_dates=True)#Insert location of your file\n",
    "    df = df[df.type==stock_name.lower()]\n",
    "    \n",
    "    df['stdev'] = pd.rolling_std(df['close'], 25, min_periods = 1)\n",
    "    \n",
    "    df = df[df['stdev'] < 0.1]\n",
    "    \n",
    "    ax1 = plt.subplot(2, 1, 1)\n",
    "    df['close'].plot(label='Price')\n",
    "    plt.legend()\n",
    "    \n",
    "    ax2 = plt.subplot(2, 1, 2, sharex = ax1)\n",
    "    df['stdev'].plot(label='Deviation')\n",
    "    plt.legend() \n",
    "    plt.show()\n",
    "    \n",
    "print outlier_fixing('aapl')\n",
    "    "
   ]
  },
  {
   "cell_type": "code",
   "execution_count": null,
   "metadata": {
    "collapsed": true
   },
   "outputs": [],
   "source": []
  },
  {
   "cell_type": "code",
   "execution_count": null,
   "metadata": {
    "collapsed": false,
    "scrolled": false
   },
   "outputs": [],
   "source": [
    "def calc_position(ma1, ma2, ma3, ma4):\n",
    "    \n",
    "\n",
    "    if ma4 > ma1 > ma2 > ma3:\n",
    "        return 1\n",
    "    elif ma1 > ma4 > ma2 > ma3:\n",
    "        return 2\n",
    "    elif ma1 > ma2 > ma4 > ma3:\n",
    "        return 3\n",
    "    elif ma1 > ma2 > ma3 > ma4:\n",
    "        return 4\n",
    "    elif ma1 < ma2 < ma3 < ma4:\n",
    "        return -4\n",
    "    elif ma1 < ma2 < ma4 < ma3:\n",
    "        return -3\n",
    "    elif ma1 < ma4 < ma2 < ma3:\n",
    "        return - 2\n",
    "    elif ma4 < ma1 < ma2 < ma3:\n",
    "        return -1\n",
    "    else:\n",
    "        return None\n",
    "    \n",
    "\n",
    "def single_stock_auto_MA(stock_name, div1=275, div2=110, div3=55, div4=5.5):\n",
    "\n",
    "    df = pd.read_csv('C:/Python27/Scripts/pra/stocks_sentdex_1-6-2016.csv', index_col='time', parse_dates=True)#Insert location of your file\n",
    "    df = df[df.type == stock_name.lower()]\n",
    "    \n",
    "    count = df['type'].value_counts()\n",
    "    count = int(count[stock_name])\n",
    "    \n",
    "    MA1 = pd.rolling_mean(df['value'], (count/div1)) #dynamic, every stock will have different number of updates\n",
    "    MA2 = pd.rolling_mean(df['value'], (count/div2))\n",
    "    MA3 = pd.rolling_mean(df['value'], (count/div3))\n",
    "    MA4 = pd.rolling_mean(df['value'], int(round((count/div4), 1)))\n",
    "    \n",
    "    SP = int(math.ceil(count/div4))\n",
    "    \n",
    "    df['MA1'] = MA1\n",
    "    df['MA2'] = MA2\n",
    "    df['MA3'] = MA3\n",
    "    df['MA4'] = MA4\n",
    "    \n",
    "    df = df[SP:]\n",
    "    \n",
    "    del df['MA100']\n",
    "    del df['MA250']\n",
    "    del df['MA500']\n",
    "    del df['MA5000']\n",
    "    \n",
    "    df['Pos'] = map(calc_position, df['MA1'], df['MA2'], df['MA3'], df['MA4'])\n",
    "    df['Change'] = df['Pos'].diff() #The change between the previous value and the current\n",
    "    \n",
    "    #print df[200:500] # row 1 to [#]\n",
    "    \n",
    "    '''ax1 = plt.subplot(2, 1, 1)\n",
    "    df['close'].plot(label='Price')\n",
    "    plt.legend()\n",
    "    \n",
    "    ax2 = plt.subplot(2, 1, 2, sharex = ax1)\n",
    "    MA1.plot(label=(str(count/div1)+'MA'))\n",
    "    MA2.plot(label=(str(count/div2)+'MA'))\n",
    "    MA3.plot(label=(str(count/div3)+'MA'))\n",
    "    MA4.plot(label=(str(round((count/div4), 1))+'MA'))  34hh     k0ds\n",
    "    plt.legend() \n",
    "    \n",
    "    plt.show()'''\n",
    "    \n",
    "    print df\n",
    "\n",
    "\n",
    "def backTest(datas, closei, changei):\n",
    "    \n",
    "    stockHoldings = 0\n",
    "    startingCapital = datas['close'][0] * 8\n",
    "    funds = startingCapital\n",
    "    currentValuation = funds\n",
    "    \n",
    "    for row in datas.iterrows():\n",
    "        try:\n",
    "            \n",
    "            print row\n",
    "            time.sleep(555)\n",
    "            index,data = row\n",
    "          #RowData = data.tolist() \n",
    "            \n",
    "        except:\n",
    "            pass\n",
    "        \n",
    "data = single_stock_auto_MA('c')\n",
    "\n",
    "                                \n",
    "                                \n",
    "print backTest(data, closei=5,changei=11)"
   ]
  },
  {
   "cell_type": "code",
   "execution_count": null,
   "metadata": {
    "collapsed": true
   },
   "outputs": [],
   "source": []
  }
 ],
 "metadata": {
  "kernelspec": {
   "display_name": "Python 2",
   "language": "python",
   "name": "python2"
  },
  "language_info": {
   "codemirror_mode": {
    "name": "ipython",
    "version": 2
   },
   "file_extension": ".py",
   "mimetype": "text/x-python",
   "name": "python",
   "nbconvert_exporter": "python",
   "pygments_lexer": "ipython2",
   "version": "2.7.12"
  }
 },
 "nbformat": 4,
 "nbformat_minor": 1
}
